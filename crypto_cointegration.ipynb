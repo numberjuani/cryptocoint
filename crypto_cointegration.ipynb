{
 "cells": [
  {
   "cell_type": "markdown",
   "metadata": {},
   "source": [
    "The objective of this notebook is to identify coins that are suitable for statistical arbitrage by evaluation wether they are cointegrated and correlated."
   ]
  },
  {
   "cell_type": "code",
   "execution_count": null,
   "metadata": {},
   "outputs": [],
   "source": [
    "#!pip3 install binance-connector"
   ]
  },
  {
   "cell_type": "code",
   "execution_count": null,
   "metadata": {},
   "outputs": [],
   "source": [
    "from statsmodels.api import OLS\n",
    "from statsmodels.tsa.stattools import adfuller\n",
    "from binance.spot import Spot as SpotClient\n",
    "import pandas as pd\n",
    "from joblib import Parallel, delayed"
   ]
  },
  {
   "cell_type": "code",
   "execution_count": null,
   "metadata": {},
   "outputs": [],
   "source": [
    "def is_cointegrated(x, y) -> bool:\n",
    "    result = OLS(x, y).fit()\n",
    "    adf_results = adfuller(result.resid)    \n",
    "    if adf_results[0] <= adf_results[4]['10%'] and adf_results[1] <= 0.1:\n",
    "        return True\n",
    "    else:\n",
    "        return False"
   ]
  },
  {
   "cell_type": "code",
   "execution_count": null,
   "metadata": {},
   "outputs": [],
   "source": [
    "def api_reponse_to_pandas(ohlc_dict: dict,symbol:str) -> tuple[str, pd.DataFrame]:\n",
    "    df = pd.DataFrame(ohlc_dict,columns=['open_time', 'open', 'high', 'low', 'close', 'volume', 'close_time', 'quote_asset_volume', 'num_trades', 'taker_buy_base_asset_volume', 'taker_buy_quote_asset_volume', 'ignore'])\n",
    "    df['close_time'] = pd.to_datetime(df['close_time'], unit='ms', utc=True)\n",
    "    #check if there are is daylight savings time change\n",
    "    df['close'] = df['close'].astype(float)\n",
    "    df.set_index('close_time', inplace=True)\n",
    "    df = df[['close']]\n",
    "    return (symbol,df)"
   ]
  },
  {
   "cell_type": "code",
   "execution_count": null,
   "metadata": {},
   "outputs": [],
   "source": [
    "def check_coins(coin_1_name:str,coin_1_data:pd.DataFrame,coin_2_name:str,coin_2_data:pd.DataFrame,rolling_window:int) -> dict:\n",
    "    print(coin_1_name,coin_2_name)\n",
    "    #merge both dataframes to make sure the datetimes line up\n",
    "    both = pd.merge(coin_1_data, coin_2_data, how='outer', left_index=True, right_index=True,suffixes=('_1','_2'))\n",
    "    #now we test for rolling correlation\n",
    "    both['rolling_corr'] = both['close_1'].rolling(window=rolling_window).corr(both['close_2'])\n",
    "    #now we test for rolling cointegration\n",
    "    both.reset_index(inplace=True)\n",
    "    #now we test for rolling cointegration\n",
    "    both['rolling_cointegration'] = False\n",
    "    if len(both) > rolling_window+1:\n",
    "        for index in both.index:\n",
    "            if index > rolling_window:\n",
    "                if is_cointegrated(both.loc[index-rolling_window:index,'close_1'],both.loc[index-rolling_window:index,'close_2']):\n",
    "                    both.loc[index,'rolling_cointegration'] = True\n",
    "        #now we save the corr abd cointegration data to be compared with all the other coins\n",
    "        corr_mean = both['rolling_corr'].mean()\n",
    "        coint_mean = both['rolling_cointegration'].mean()\n",
    "        pair = coin_1_name + '_' + coin_2_name\n",
    "        return {'pair':pair,'corr_mean':corr_mean,'coint_mean':coint_mean,'both':corr_mean*coint_mean}\n",
    "    else:\n",
    "        return {}"
   ]
  },
  {
   "cell_type": "code",
   "execution_count": null,
   "metadata": {},
   "outputs": [],
   "source": [
    "spot_client = SpotClient()"
   ]
  },
  {
   "cell_type": "code",
   "execution_count": null,
   "metadata": {},
   "outputs": [],
   "source": [
    "spot_info = pd.DataFrame(spot_client.exchange_info()['symbols'])\n",
    "#for the sake of simplicity we will only consider coins with a stablecoin in the quote asset. \n",
    "#Also, we will only consider coins that can be shorted since we will need to buy/short both coins on the pair\n",
    "quotes_to_consider = ['USD','USDT','BUSD','USDS','USDP','DAI','USDC','TUSD']\n",
    "spot_info = spot_info[(spot_info.quoteAsset.isin(quotes_to_consider)) & (spot_info.status == 'TRADING')& (spot_info.isMarginTradingAllowed)]\n",
    "spot_info"
   ]
  },
  {
   "cell_type": "code",
   "execution_count": null,
   "metadata": {},
   "outputs": [],
   "source": [
    "total_possible_pairs = len(spot_info)**2\n",
    "f'Considering {len(spot_info)} coins for a possible {total_possible_pairs} trading pairs'"
   ]
  },
  {
   "cell_type": "markdown",
   "metadata": {},
   "source": [
    "Now we can proceed to request OHLCV data and test all these pairs for coint/corr! We will do this in parallel to speed things up."
   ]
  },
  {
   "cell_type": "code",
   "execution_count": null,
   "metadata": {},
   "outputs": [],
   "source": [
    "symbols:list[str] = spot_info.symbol.tolist()\n",
    "symbols_reversed = []\n",
    "for i in range(len(symbols)-1,-1,-1):\n",
    "    symbols_reversed.append(symbols[i-1])\n",
    "len(symbols),len(symbols_reversed)"
   ]
  },
  {
   "cell_type": "code",
   "execution_count": null,
   "metadata": {},
   "outputs": [],
   "source": [
    "coins_data:list[tuple[str,pd.DataFrame]] = (Parallel(n_jobs=-2)(delayed(api_reponse_to_pandas)(spot_client.klines(symbol=sym, interval='5m',limit=1000),sym) for sym in symbols))\n",
    "#now we transfrom the list of tuples to a dictionary to its easy to work with\n",
    "coins_data:dict[str,pd.DataFrame] = dict(coins_data)\n"
   ]
  },
  {
   "cell_type": "code",
   "execution_count": null,
   "metadata": {},
   "outputs": [],
   "source": [
    "results = (Parallel(n_jobs=-2)(delayed(check_coins)(symbol,coins_data[symbol],symbol2,coins_data[symbol2],500) for symbol in symbols for symbol2 in symbols_reversed if symbol != symbol2))"
   ]
  },
  {
   "cell_type": "code",
   "execution_count": null,
   "metadata": {},
   "outputs": [],
   "source": [
    "results_frame = pd.DataFrame(results)\n",
    "results_frame.sort_values(by=['both'],ascending=False,inplace=True)\n",
    "results_frame"
   ]
  }
 ],
 "metadata": {
  "interpreter": {
   "hash": "d158ff5a88e3e59b7bb4d4d7e0c618158e1ebf06cdbb0fab67daed76464a2af1"
  },
  "kernelspec": {
   "display_name": "Python 3.10.3 ('.cointvenv': venv)",
   "language": "python",
   "name": "python3"
  },
  "language_info": {
   "codemirror_mode": {
    "name": "ipython",
    "version": 3
   },
   "file_extension": ".py",
   "mimetype": "text/x-python",
   "name": "python",
   "nbconvert_exporter": "python",
   "pygments_lexer": "ipython3",
   "version": "3.10.3"
  },
  "orig_nbformat": 4
 },
 "nbformat": 4,
 "nbformat_minor": 2
}
